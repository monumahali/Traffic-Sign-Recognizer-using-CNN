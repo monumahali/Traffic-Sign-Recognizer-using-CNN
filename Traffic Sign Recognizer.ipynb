{
 "cells": [
  {
   "cell_type": "code",
   "execution_count": 18,
   "metadata": {},
   "outputs": [],
   "source": [
    "import numpy as np\n",
    "import tensorflow as tf\n",
    "import matplotlib.pyplot as plt\n",
    "import os\n",
    "%matplotlib inline\n",
    "import glob\n",
    "from skimage.color import rgb2lab\n",
    "from skimage.transform import resize\n",
    "from sklearn.model_selection import train_test_split"
   ]
  },
  {
   "cell_type": "code",
   "execution_count": 19,
   "metadata": {},
   "outputs": [],
   "source": [
    "num_classes = 43\n",
    "resize_image = (32, 32)"
   ]
  },
  {
   "cell_type": "markdown",
   "metadata": {},
   "source": [
    "### Reading and Preprocessing of images"
   ]
  },
  {
   "cell_type": "code",
   "execution_count": 20,
   "metadata": {},
   "outputs": [],
   "source": [
    "def to_tf_format(imgs):\n",
    "    return np.stack([img[:, :, np.newaxis] for img in imgs], axis = 0).astype(np.float32)\n",
    "\n",
    "def read_data(classes):\n",
    "    images = []\n",
    "    labels = []\n",
    "    \n",
    "    for lbl in range(classes):\n",
    "        full_path = os.path.join('GTSRB', 'Final_Training', 'Images') + '/' + format(lbl, '05d') + '/'\n",
    "        \n",
    "        print('reading folder: {}'.format(full_path))\n",
    "        \n",
    "        for img in glob.glob(full_path + '*.ppm'):\n",
    "            \n",
    "            image = plt.imread(img)\n",
    "            image = rgb2lab(image / 255.0)[:, :, 0]\n",
    "            image = resize(image, resize_image, mode = 'reflect')\n",
    "            image = image.astype(np.float32)\n",
    "            \n",
    "            label = np.zeros((classes, ), dtype = np.float32)\n",
    "            label[lbl] = 1.0\n",
    "            \n",
    "            images.append(image)\n",
    "            labels.append(label)\n",
    "            \n",
    "    return to_tf_format(images).astype(np.float32), np.matrix(labels).astype(np.float32)"
   ]
  },
  {
   "cell_type": "code",
   "execution_count": 21,
   "metadata": {},
   "outputs": [
    {
     "name": "stdout",
     "output_type": "stream",
     "text": [
      "reading folder: GTSRB/Final_Training/Images/00000/\n"
     ]
    },
    {
     "name": "stderr",
     "output_type": "stream",
     "text": [
      "/home/monu/anaconda3/envs/tensorflow/lib/python3.5/site-packages/skimage/transform/_warps.py:110: UserWarning: Anti-aliasing will be enabled by default in skimage 0.15 to avoid aliasing artifacts when down-sampling images.\n",
      "  warn(\"Anti-aliasing will be enabled by default in skimage 0.15 to \"\n"
     ]
    },
    {
     "name": "stdout",
     "output_type": "stream",
     "text": [
      "reading folder: GTSRB/Final_Training/Images/00001/\n",
      "reading folder: GTSRB/Final_Training/Images/00002/\n",
      "reading folder: GTSRB/Final_Training/Images/00003/\n",
      "reading folder: GTSRB/Final_Training/Images/00004/\n",
      "reading folder: GTSRB/Final_Training/Images/00005/\n",
      "reading folder: GTSRB/Final_Training/Images/00006/\n",
      "reading folder: GTSRB/Final_Training/Images/00007/\n",
      "reading folder: GTSRB/Final_Training/Images/00008/\n",
      "reading folder: GTSRB/Final_Training/Images/00009/\n",
      "reading folder: GTSRB/Final_Training/Images/00010/\n",
      "reading folder: GTSRB/Final_Training/Images/00011/\n",
      "reading folder: GTSRB/Final_Training/Images/00012/\n",
      "reading folder: GTSRB/Final_Training/Images/00013/\n",
      "reading folder: GTSRB/Final_Training/Images/00014/\n",
      "reading folder: GTSRB/Final_Training/Images/00015/\n",
      "reading folder: GTSRB/Final_Training/Images/00016/\n",
      "reading folder: GTSRB/Final_Training/Images/00017/\n",
      "reading folder: GTSRB/Final_Training/Images/00018/\n",
      "reading folder: GTSRB/Final_Training/Images/00019/\n",
      "reading folder: GTSRB/Final_Training/Images/00020/\n",
      "reading folder: GTSRB/Final_Training/Images/00021/\n",
      "reading folder: GTSRB/Final_Training/Images/00022/\n",
      "reading folder: GTSRB/Final_Training/Images/00023/\n",
      "reading folder: GTSRB/Final_Training/Images/00024/\n",
      "reading folder: GTSRB/Final_Training/Images/00025/\n",
      "reading folder: GTSRB/Final_Training/Images/00026/\n",
      "reading folder: GTSRB/Final_Training/Images/00027/\n",
      "reading folder: GTSRB/Final_Training/Images/00028/\n",
      "reading folder: GTSRB/Final_Training/Images/00029/\n",
      "reading folder: GTSRB/Final_Training/Images/00030/\n",
      "reading folder: GTSRB/Final_Training/Images/00031/\n",
      "reading folder: GTSRB/Final_Training/Images/00032/\n",
      "reading folder: GTSRB/Final_Training/Images/00033/\n",
      "reading folder: GTSRB/Final_Training/Images/00034/\n",
      "reading folder: GTSRB/Final_Training/Images/00035/\n",
      "reading folder: GTSRB/Final_Training/Images/00036/\n",
      "reading folder: GTSRB/Final_Training/Images/00037/\n",
      "reading folder: GTSRB/Final_Training/Images/00038/\n",
      "reading folder: GTSRB/Final_Training/Images/00039/\n",
      "reading folder: GTSRB/Final_Training/Images/00040/\n",
      "reading folder: GTSRB/Final_Training/Images/00041/\n",
      "reading folder: GTSRB/Final_Training/Images/00042/\n"
     ]
    }
   ],
   "source": [
    "\n",
    "X, y = read_data(num_classes)"
   ]
  },
  {
   "cell_type": "code",
   "execution_count": 22,
   "metadata": {},
   "outputs": [
    {
     "name": "stdout",
     "output_type": "stream",
     "text": [
      "X shape: (39209, 32, 32, 1)\n",
      "y shape: (39209, 43)\n"
     ]
    }
   ],
   "source": [
    "X = np.asarray(X)\n",
    "print('X shape:', X.shape)\n",
    "\n",
    "y = np.asarray(y)\n",
    "print('y shape:', y.shape)"
   ]
  },
  {
   "cell_type": "code",
   "execution_count": 24,
   "metadata": {},
   "outputs": [
    {
     "name": "stdout",
     "output_type": "stream",
     "text": [
      "[1. 0. 0. 0. 0. 0. 0. 0. 0. 0. 0. 0. 0. 0. 0. 0. 0. 0. 0. 0. 0. 0. 0. 0.\n",
      " 0. 0. 0. 0. 0. 0. 0. 0. 0. 0. 0. 0. 0. 0. 0. 0. 0. 0. 0.]\n"
     ]
    },
    {
     "data": {
      "image/png": "[encoded data removed]",
      "text/plain": [
       "<matplotlib.figure.Figure at 0x7f772fd899e8>"
      ]
     },
     "metadata": {},
     "output_type": "display_data"
    }
   ],
   "source": [
    "plt.imshow(X[0,:,:,:].reshape(resize_image))\n",
    "print(y[0, :])"
   ]
  },
  {
   "cell_type": "code",
   "execution_count": 27,
   "metadata": {},
   "outputs": [
    {
     "name": "stdout",
     "output_type": "stream",
     "text": [
      "[0. 0. 0. 0. 0. 0. 0. 0. 0. 0. 0. 0. 0. 0. 0. 0. 0. 0. 0. 0. 0. 0. 0. 0.\n",
      " 0. 0. 0. 0. 0. 0. 0. 0. 0. 0. 0. 0. 0. 0. 0. 0. 0. 0. 1.]\n"
     ]
    },
    {
     "data": {
      "image/png": "[encoded data removed]",
      "text/plain": [
       "<matplotlib.figure.Figure at 0x7f772fd0f208>"
      ]
     },
     "metadata": {},
     "output_type": "display_data"
    }
   ],
   "source": [
    "plt.imshow(X[-1,:,:,:].reshape(resize_image))\n",
    "print(y[-1, :])"
   ]
  },
  {
   "cell_type": "markdown",
   "metadata": {},
   "source": [
    "### Splitting into train and test set"
   ]
  },
  {
   "cell_type": "code",
   "execution_count": 28,
   "metadata": {},
   "outputs": [],
   "source": [
    "X_train, X_test, y_train, y_test = train_test_split(X, y, test_size = 0.10, random_state = 42)"
   ]
  },
  {
   "cell_type": "code",
   "execution_count": 29,
   "metadata": {},
   "outputs": [
    {
     "name": "stdout",
     "output_type": "stream",
     "text": [
      "X train shape: (35288, 32, 32, 1)\n",
      "X test shape: (3921, 32, 32, 1)\n",
      "y train shape: (35288, 43)\n",
      "y test shape: (3921, 43)\n"
     ]
    }
   ],
   "source": [
    "print('X train shape:', X_train.shape)\n",
    "print('X test shape:', X_test.shape)\n",
    "\n",
    "print('y train shape:', y_train.shape)\n",
    "print('y test shape:', y_test.shape)"
   ]
  },
  {
   "cell_type": "markdown",
   "metadata": {},
   "source": [
    "### Batch Generator"
   ]
  },
  {
   "cell_type": "code",
   "execution_count": 30,
   "metadata": {},
   "outputs": [],
   "source": [
    "def batch_gen(data, labels, batch_size):\n",
    "    \n",
    "    for batch_num in range(data.shape[0] // batch_size):\n",
    "        \n",
    "        batch_data = data[batch_num * batch_size : batch_num * batch_size + batch_size]\n",
    "        batch_labels = labels[batch_num * batch_size : batch_num * batch_size + batch_size]\n",
    "    \n",
    "        yield batch_data, batch_labels"
   ]
  },
  {
   "cell_type": "code",
   "execution_count": 31,
   "metadata": {},
   "outputs": [
    {
     "name": "stdout",
     "output_type": "stream",
     "text": [
      "(5000, 32, 32, 1) (5000, 43)\n",
      "(5000, 32, 32, 1) (5000, 43)\n",
      "(5000, 32, 32, 1) (5000, 43)\n",
      "(5000, 32, 32, 1) (5000, 43)\n",
      "(5000, 32, 32, 1) (5000, 43)\n",
      "(5000, 32, 32, 1) (5000, 43)\n",
      "(5000, 32, 32, 1) (5000, 43)\n"
     ]
    }
   ],
   "source": [
    "for batch in batch_gen(X_train, y_train, 5000):\n",
    "    print(batch[0].shape, batch[1].shape)"
   ]
  },
  {
   "cell_type": "markdown",
   "metadata": {},
   "source": [
    "### Conv layer"
   ]
  },
  {
   "cell_type": "code",
   "execution_count": 32,
   "metadata": {},
   "outputs": [],
   "source": [
    "def conv_layer(in_tensors, kernel_size, output_depth):\n",
    "    \n",
    "    w = tf.get_variable('conv_w', [kernel_size, kernel_size, in_tensors.get_shape()[3], output_depth], tf.float32, tf.contrib.layers.xavier_initializer())\n",
    "    b = tf.get_variable('conv_b', [output_depth, ], tf.float32, tf.constant_initializer(0.0))\n",
    "    return tf.nn.relu(tf.nn.conv2d(in_tensors, w, [1,1,1,1], 'SAME') + b)"
   ]
  },
  {
   "cell_type": "markdown",
   "metadata": {},
   "source": [
    "### Maxpool layer"
   ]
  },
  {
   "cell_type": "code",
   "execution_count": 33,
   "metadata": {},
   "outputs": [],
   "source": [
    "def maxpool_layer(in_tensors, kernel_size):\n",
    "    return tf.nn.max_pool(in_tensors, [1, kernel_size, kernel_size, 1], [1,1,1,1], 'SAME')"
   ]
  },
  {
   "cell_type": "markdown",
   "metadata": {},
   "source": [
    "### Dropout layer"
   ]
  },
  {
   "cell_type": "code",
   "execution_count": 34,
   "metadata": {},
   "outputs": [],
   "source": [
    "def dropout(in_tensors, keep_proba, is_training):\n",
    "    return tf.cond(is_training, lambda: tf.nn.dropout(in_tensors, keep_proba), lambda: in_tensors)"
   ]
  },
  {
   "cell_type": "markdown",
   "metadata": {},
   "source": [
    "### FC layer without activation"
   ]
  },
  {
   "cell_type": "code",
   "execution_count": 35,
   "metadata": {},
   "outputs": [],
   "source": [
    "def fc_without_activation_layer(in_tensors, n_units):\n",
    "    \n",
    "    w = tf.get_variable('fc_w', [in_tensors.get_shape()[1], n_units], tf.float32, tf.contrib.layers.xavier_initializer())\n",
    "    b = tf.get_variable('fc_b', [n_units, ], tf.float32, tf.constant_initializer(0.0))\n",
    "    \n",
    "    return tf.matmul(in_tensors, w) + b"
   ]
  },
  {
   "cell_type": "markdown",
   "metadata": {},
   "source": [
    "### FC layer with activation"
   ]
  },
  {
   "cell_type": "code",
   "execution_count": 36,
   "metadata": {},
   "outputs": [],
   "source": [
    "def fc_layer(in_tensors, n_units):\n",
    "    return tf.nn.relu(fc_without_activation_layer(in_tensors, n_units))"
   ]
  },
  {
   "cell_type": "code",
   "execution_count": 37,
   "metadata": {},
   "outputs": [],
   "source": [
    "def model(in_tensors, is_training):\n",
    "    \n",
    "    with tf.variable_scope('l1'):\n",
    "        l1 = maxpool_layer(conv_layer(in_tensors, 3, 32), 2)\n",
    "        l1_out = dropout(l1, 0.8, is_training)\n",
    "        \n",
    "    with tf.variable_scope('l2'):\n",
    "        l2 = maxpool_layer(conv_layer(l1_out, 3, 64), 2)\n",
    "        l2_out = dropout(l2, 0.8, is_training)\n",
    "        \n",
    "    with tf.variable_scope('flatten'):\n",
    "        l2_out_flat = tf.layers.flatten(l2_out)\n",
    "        \n",
    "    with tf.variable_scope('l3'):\n",
    "        l3 = fc_layer(l2_out_flat, 1024)\n",
    "        l3_out = dropout(l3, 0.6, is_training)\n",
    "        \n",
    "    with tf.variable_scope('out'):\n",
    "        out_tensors = fc_without_activation_layer(l3_out, num_classes)\n",
    "        \n",
    "    return out_tensors"
   ]
  },
  {
   "cell_type": "code",
   "execution_count": 42,
   "metadata": {},
   "outputs": [],
   "source": [
    "def train_model(X_train, y_train, X_test, y_test, learning_rate, num_epochs, batch_size):\n",
    "    \n",
    "    X_batch = tf.placeholder(tf.float32, shape = (None, resize_image[0], resize_image[1], 1))\n",
    "    y_batch = tf.placeholder(tf.float32, shape = (None, num_classes))\n",
    "    is_training = tf.placeholder(tf.bool)\n",
    "    \n",
    "    logits = model(X_batch, is_training)\n",
    "    \n",
    "    out_y_pred = tf.nn.softmax(logits)\n",
    "    \n",
    "    loss_score = tf.nn.softmax_cross_entropy_with_logits_v2(logits = logits, labels = y_batch)\n",
    "    loss = tf.reduce_mean(loss_score)\n",
    "    \n",
    "    optimizer = tf.train.AdamOptimizer(learning_rate).minimize(loss)\n",
    "    \n",
    "    with tf.Session() as sess:\n",
    "        sess.run(tf.global_variables_initializer())\n",
    "        for epoch in range(num_epochs):\n",
    "            print('epoch = ', epoch)\n",
    "            train_loss = []\n",
    "            for batch in batch_gen(X_train, y_train, batch_size):\n",
    "                feed_dict = {X_batch: batch[0], y_batch: batch[1], is_training: True}\n",
    "                _, tf_loss = sess.run([optimizer, loss], feed_dict = feed_dict)\n",
    "                train_loss.append(tf_loss)\n",
    "            print('train loss:', np.mean(train_loss))\n",
    "            \n",
    "        print('TEST SET PERFORMANCE')\n",
    "        \n",
    "        X_test = X_test[:128]\n",
    "        y_test = y_test[:128]\n",
    "        \n",
    "        y_test_pred, test_loss = sess.run([out_y_pred, loss], feed_dict = {X_batch: X_test, y_batch: y_test, is_training: False})\n",
    "        \n",
    "        print('test loss:', test_loss)\n",
    "        \n",
    "        y_test_pred_classified = np.argmax(y_test_pred, axis = 1).astype(np.int32)\n",
    "        y_test_true_classified = np.argmax(y_test, axis = 1).astype(np.int32)\n",
    "        \n",
    "        print('test score:', (np.sum(y_test_pred_classified == y_test_true_classified) / len(y_test_true_classified)) * 100)\n",
    "        "
   ]
  },
  {
   "cell_type": "code",
   "execution_count": 43,
   "metadata": {},
   "outputs": [
    {
     "name": "stdout",
     "output_type": "stream",
     "text": [
      "epoch =  0\n",
      "train loss: 4.933448\n",
      "epoch =  1\n",
      "train loss: 0.3397326\n",
      "epoch =  2\n",
      "train loss: 0.20537792\n",
      "epoch =  3\n",
      "train loss: 0.14519413\n",
      "epoch =  4\n",
      "train loss: 0.12861542\n",
      "epoch =  5\n",
      "train loss: 0.09820337\n",
      "epoch =  6\n",
      "train loss: 0.09858279\n",
      "epoch =  7\n",
      "train loss: 0.102570936\n",
      "epoch =  8\n",
      "train loss: 0.088069975\n",
      "epoch =  9\n",
      "train loss: 0.08731988\n",
      "TEST SET PERFORMANCE\n",
      "test loss: 0.07511489\n",
      "test score: 96.875\n"
     ]
    }
   ],
   "source": [
    "tf.reset_default_graph()\n",
    "\n",
    "train_model(X_train, y_train, X_test, y_test, 0.001, 10, 64)"
   ]
  },
  {
   "cell_type": "code",
   "execution_count": null,
   "metadata": {},
   "outputs": [],
   "source": []
  }
 ],
 "metadata": {
  "kernelspec": {
   "display_name": "Python 3",
   "language": "python",
   "name": "python3"
  },
  "language_info": {
   "codemirror_mode": {
    "name": "ipython",
    "version": 3
   },
   "file_extension": ".py",
   "mimetype": "text/x-python",
   "name": "python",
   "nbconvert_exporter": "python",
   "pygments_lexer": "ipython3",
   "version": "3.5.4"
  }
 },
 "nbformat": 4,
 "nbformat_minor": 2
}
