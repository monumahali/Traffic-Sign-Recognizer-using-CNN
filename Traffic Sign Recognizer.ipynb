{
 "cells": [
  {
   "cell_type": "code",
   "execution_count": 74,
   "metadata": {},
   "outputs": [],
   "source": [
    "import numpy as np\n",
    "import tensorflow as tf\n",
    "import matplotlib.pyplot as plt\n",
    "import os\n",
    "%matplotlib inline\n",
    "import glob"
   ]
  },
  {
   "cell_type": "code",
   "execution_count": 116,
   "metadata": {},
   "outputs": [],
   "source": [
    "def read_data(classes):\n",
    "    images = []\n",
    "    labels = []\n",
    "    \n",
    "    for lbl in range(classes):\n",
    "        full_path = os.path.join('GTSRB', 'Final_Training', 'Images') + '/' + format(lbl, '05d') + '/'\n",
    "        \n",
    "        print('reading folder: {}'.format(full_path))\n",
    "        \n",
    "        for img in glob.glob(full_path + '*.ppm'):\n",
    "            \n",
    "            image = plt.imread(img).astype(np.float32)\n",
    "            \n",
    "            label = np.zeros((classes, ), dtype = np.float32)\n",
    "            label[lbl] = 1.0\n",
    "            \n",
    "            images.append(img)\n",
    "            labels.append(label)\n",
    "            \n",
    "    return images, labels"
   ]
  },
  {
   "cell_type": "code",
   "execution_count": 117,
   "metadata": {},
   "outputs": [
    {
     "name": "stdout",
     "output_type": "stream",
     "text": [
      "reading folder: GTSRB/Final_Training/Images/00000/\n",
      "reading folder: GTSRB/Final_Training/Images/00001/\n",
      "reading folder: GTSRB/Final_Training/Images/00002/\n",
      "reading folder: GTSRB/Final_Training/Images/00003/\n",
      "reading folder: GTSRB/Final_Training/Images/00004/\n",
      "reading folder: GTSRB/Final_Training/Images/00005/\n",
      "reading folder: GTSRB/Final_Training/Images/00006/\n",
      "reading folder: GTSRB/Final_Training/Images/00007/\n",
      "reading folder: GTSRB/Final_Training/Images/00008/\n",
      "reading folder: GTSRB/Final_Training/Images/00009/\n",
      "reading folder: GTSRB/Final_Training/Images/00010/\n",
      "reading folder: GTSRB/Final_Training/Images/00011/\n",
      "reading folder: GTSRB/Final_Training/Images/00012/\n",
      "reading folder: GTSRB/Final_Training/Images/00013/\n",
      "reading folder: GTSRB/Final_Training/Images/00014/\n",
      "reading folder: GTSRB/Final_Training/Images/00015/\n",
      "reading folder: GTSRB/Final_Training/Images/00016/\n",
      "reading folder: GTSRB/Final_Training/Images/00017/\n",
      "reading folder: GTSRB/Final_Training/Images/00018/\n",
      "reading folder: GTSRB/Final_Training/Images/00019/\n",
      "reading folder: GTSRB/Final_Training/Images/00020/\n",
      "reading folder: GTSRB/Final_Training/Images/00021/\n",
      "reading folder: GTSRB/Final_Training/Images/00022/\n",
      "reading folder: GTSRB/Final_Training/Images/00023/\n",
      "reading folder: GTSRB/Final_Training/Images/00024/\n",
      "reading folder: GTSRB/Final_Training/Images/00025/\n",
      "reading folder: GTSRB/Final_Training/Images/00026/\n",
      "reading folder: GTSRB/Final_Training/Images/00027/\n",
      "reading folder: GTSRB/Final_Training/Images/00028/\n",
      "reading folder: GTSRB/Final_Training/Images/00029/\n",
      "reading folder: GTSRB/Final_Training/Images/00030/\n",
      "reading folder: GTSRB/Final_Training/Images/00031/\n",
      "reading folder: GTSRB/Final_Training/Images/00032/\n",
      "reading folder: GTSRB/Final_Training/Images/00033/\n",
      "reading folder: GTSRB/Final_Training/Images/00034/\n",
      "reading folder: GTSRB/Final_Training/Images/00035/\n",
      "reading folder: GTSRB/Final_Training/Images/00036/\n",
      "reading folder: GTSRB/Final_Training/Images/00037/\n",
      "reading folder: GTSRB/Final_Training/Images/00038/\n",
      "reading folder: GTSRB/Final_Training/Images/00039/\n",
      "reading folder: GTSRB/Final_Training/Images/00040/\n",
      "reading folder: GTSRB/Final_Training/Images/00041/\n",
      "reading folder: GTSRB/Final_Training/Images/00042/\n"
     ]
    }
   ],
   "source": [
    "num_classes = 43\n",
    "images, labels = read_data(num_classes)"
   ]
  },
  {
   "cell_type": "code",
   "execution_count": null,
   "metadata": {},
   "outputs": [],
   "source": []
  },
  {
   "cell_type": "code",
   "execution_count": null,
   "metadata": {},
   "outputs": [],
   "source": []
  }
 ],
 "metadata": {
  "kernelspec": {
   "display_name": "Python 3",
   "language": "python",
   "name": "python3"
  },
  "language_info": {
   "codemirror_mode": {
    "name": "ipython",
    "version": 3
   },
   "file_extension": ".py",
   "mimetype": "text/x-python",
   "name": "python",
   "nbconvert_exporter": "python",
   "pygments_lexer": "ipython3",
   "version": "3.5.4"
  }
 },
 "nbformat": 4,
 "nbformat_minor": 2
}
